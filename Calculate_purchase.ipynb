{
 "cells": [
  {
   "cell_type": "code",
   "execution_count": 1,
   "id": "8ed63be0",
   "metadata": {},
   "outputs": [],
   "source": [
    "import pandas as pd\n",
    "\n",
    "# Load data from excel file\n",
    "data = pd.read_excel('GHL_Form5.xlsx', sheet_name = 'Sheet1')\n"
   ]
  },
  {
   "cell_type": "code",
   "execution_count": 2,
   "id": "90337ff4",
   "metadata": {},
   "outputs": [
    {
     "data": {
      "text/html": [
       "<div>\n",
       "<style scoped>\n",
       "    .dataframe tbody tr th:only-of-type {\n",
       "        vertical-align: middle;\n",
       "    }\n",
       "\n",
       "    .dataframe tbody tr th {\n",
       "        vertical-align: top;\n",
       "    }\n",
       "\n",
       "    .dataframe thead th {\n",
       "        text-align: right;\n",
       "    }\n",
       "</style>\n",
       "<table border=\"1\" class=\"dataframe\">\n",
       "  <thead>\n",
       "    <tr style=\"text-align: right;\">\n",
       "      <th></th>\n",
       "      <th>First Name</th>\n",
       "      <th>Email</th>\n",
       "      <th>Gender</th>\n",
       "      <th>Age</th>\n",
       "      <th>Budget</th>\n",
       "      <th>purchase_history</th>\n",
       "      <th>reviews</th>\n",
       "      <th>Price</th>\n",
       "    </tr>\n",
       "  </thead>\n",
       "  <tbody>\n",
       "    <tr>\n",
       "      <th>0</th>\n",
       "      <td>kevin</td>\n",
       "      <td>crazeshifts41@gmail.com</td>\n",
       "      <td>Male</td>\n",
       "      <td>29</td>\n",
       "      <td>3000</td>\n",
       "      <td>20</td>\n",
       "      <td>9</td>\n",
       "      <td>300</td>\n",
       "    </tr>\n",
       "    <tr>\n",
       "      <th>1</th>\n",
       "      <td>Simon</td>\n",
       "      <td>Ngomasimon3@gmail.com</td>\n",
       "      <td>Female</td>\n",
       "      <td>22</td>\n",
       "      <td>200</td>\n",
       "      <td>7</td>\n",
       "      <td>4</td>\n",
       "      <td>300</td>\n",
       "    </tr>\n",
       "    <tr>\n",
       "      <th>2</th>\n",
       "      <td>Karen</td>\n",
       "      <td>Karen@gmail.com</td>\n",
       "      <td>Female</td>\n",
       "      <td>45</td>\n",
       "      <td>1500</td>\n",
       "      <td>2</td>\n",
       "      <td>1</td>\n",
       "      <td>300</td>\n",
       "    </tr>\n",
       "    <tr>\n",
       "      <th>3</th>\n",
       "      <td>Dave</td>\n",
       "      <td>Dave@gmail.com</td>\n",
       "      <td>Male</td>\n",
       "      <td>37</td>\n",
       "      <td>1800</td>\n",
       "      <td>5</td>\n",
       "      <td>2</td>\n",
       "      <td>300</td>\n",
       "    </tr>\n",
       "  </tbody>\n",
       "</table>\n",
       "</div>"
      ],
      "text/plain": [
       "  First Name                    Email  Gender  Age  Budget  purchase_history  \\\n",
       "0      kevin  crazeshifts41@gmail.com    Male   29    3000                20   \n",
       "1      Simon    Ngomasimon3@gmail.com  Female   22     200                 7   \n",
       "2      Karen          Karen@gmail.com  Female   45    1500                 2   \n",
       "3       Dave           Dave@gmail.com    Male   37    1800                 5   \n",
       "\n",
       "   reviews  Price  \n",
       "0        9    300  \n",
       "1        4    300  \n",
       "2        1    300  \n",
       "3        2    300  "
      ]
     },
     "execution_count": 2,
     "metadata": {},
     "output_type": "execute_result"
    }
   ],
   "source": [
    "data"
   ]
  },
  {
   "cell_type": "code",
   "execution_count": 3,
   "id": "6a7ca156",
   "metadata": {},
   "outputs": [],
   "source": [
    "# Extract relevant columns\n",
    "age = data['Age']\n",
    "budget = data['Budget']\n",
    "purchase_history = data['purchase_history']\n",
    "reviews = data['reviews']\n",
    "Gender = data['Gender']\n",
    "price = data['Price']"
   ]
  },
  {
   "cell_type": "code",
   "execution_count": 4,
   "id": "0b87ba7c",
   "metadata": {},
   "outputs": [],
   "source": [
    "# Coefficients for each input\n",
    "coefficients = {'age': 0.1, 'budget': 0.2, 'purchase_history': 0.3, 'reviews': 0.4, 'gender': 0.1, 'price': 0.05}"
   ]
  },
  {
   "cell_type": "code",
   "execution_count": 5,
   "id": "da4b7ea9",
   "metadata": {},
   "outputs": [],
   "source": [
    "# Add a new column to the dataframe to store the output percentage likelihood\n",
    "data['percentage_likelihood'] = 0"
   ]
  },
  {
   "cell_type": "code",
   "execution_count": 6,
   "id": "fd613728",
   "metadata": {},
   "outputs": [],
   "source": [
    "# Calculate the percentage likelihood using the coefficients\n",
    "for index, row in data.iterrows():\n",
    "    percentage_likelihood = (row['Age'] * coefficients['age'] + row['Budget'] * coefficients['budget'] + row['purchase_history'] * coefficients['purchase_history'] + row['reviews'] * coefficients['reviews'] + (1 if row['Gender'] == 'Male' else 0) * coefficients['gender'] + row['Price'] * coefficients['price']) * 100\n",
    "    data.at[index, 'percentage_likelihood'] = percentage_likelihood"
   ]
  },
  {
   "cell_type": "code",
   "execution_count": 7,
   "id": "ef5269ee",
   "metadata": {},
   "outputs": [
    {
     "name": "stdout",
     "output_type": "stream",
     "text": [
      "  First Name                    Email  Gender  Age  Budget  purchase_history  \\\n",
      "0      kevin  crazeshifts41@gmail.com    Male   29    3000                20   \n",
      "1      Simon    Ngomasimon3@gmail.com  Female   22     200                 7   \n",
      "2      Karen          Karen@gmail.com  Female   45    1500                 2   \n",
      "3       Dave           Dave@gmail.com    Male   37    1800                 5   \n",
      "\n",
      "   reviews  Price  percentage_likelihood  \n",
      "0        9    300                  62760  \n",
      "1        4    300                   6090  \n",
      "2        1    300                  32050  \n",
      "3        2    300                  38110  \n"
     ]
    }
   ],
   "source": [
    "# Print the output data\n",
    "print(data)"
   ]
  },
  {
   "cell_type": "code",
   "execution_count": 8,
   "id": "3e2b6ed9",
   "metadata": {},
   "outputs": [
    {
     "data": {
      "text/html": [
       "<div>\n",
       "<style scoped>\n",
       "    .dataframe tbody tr th:only-of-type {\n",
       "        vertical-align: middle;\n",
       "    }\n",
       "\n",
       "    .dataframe tbody tr th {\n",
       "        vertical-align: top;\n",
       "    }\n",
       "\n",
       "    .dataframe thead th {\n",
       "        text-align: right;\n",
       "    }\n",
       "</style>\n",
       "<table border=\"1\" class=\"dataframe\">\n",
       "  <thead>\n",
       "    <tr style=\"text-align: right;\">\n",
       "      <th></th>\n",
       "      <th>First Name</th>\n",
       "      <th>Email</th>\n",
       "      <th>Gender</th>\n",
       "      <th>Age</th>\n",
       "      <th>Budget</th>\n",
       "      <th>purchase_history</th>\n",
       "      <th>reviews</th>\n",
       "      <th>Price</th>\n",
       "      <th>percentage_likelihood</th>\n",
       "    </tr>\n",
       "  </thead>\n",
       "  <tbody>\n",
       "    <tr>\n",
       "      <th>0</th>\n",
       "      <td>kevin</td>\n",
       "      <td>crazeshifts41@gmail.com</td>\n",
       "      <td>Male</td>\n",
       "      <td>29</td>\n",
       "      <td>3000</td>\n",
       "      <td>20</td>\n",
       "      <td>9</td>\n",
       "      <td>300</td>\n",
       "      <td>62760</td>\n",
       "    </tr>\n",
       "    <tr>\n",
       "      <th>1</th>\n",
       "      <td>Simon</td>\n",
       "      <td>Ngomasimon3@gmail.com</td>\n",
       "      <td>Female</td>\n",
       "      <td>22</td>\n",
       "      <td>200</td>\n",
       "      <td>7</td>\n",
       "      <td>4</td>\n",
       "      <td>300</td>\n",
       "      <td>6090</td>\n",
       "    </tr>\n",
       "    <tr>\n",
       "      <th>2</th>\n",
       "      <td>Karen</td>\n",
       "      <td>Karen@gmail.com</td>\n",
       "      <td>Female</td>\n",
       "      <td>45</td>\n",
       "      <td>1500</td>\n",
       "      <td>2</td>\n",
       "      <td>1</td>\n",
       "      <td>300</td>\n",
       "      <td>32050</td>\n",
       "    </tr>\n",
       "    <tr>\n",
       "      <th>3</th>\n",
       "      <td>Dave</td>\n",
       "      <td>Dave@gmail.com</td>\n",
       "      <td>Male</td>\n",
       "      <td>37</td>\n",
       "      <td>1800</td>\n",
       "      <td>5</td>\n",
       "      <td>2</td>\n",
       "      <td>300</td>\n",
       "      <td>38110</td>\n",
       "    </tr>\n",
       "  </tbody>\n",
       "</table>\n",
       "</div>"
      ],
      "text/plain": [
       "  First Name                    Email  Gender  Age  Budget  purchase_history  \\\n",
       "0      kevin  crazeshifts41@gmail.com    Male   29    3000                20   \n",
       "1      Simon    Ngomasimon3@gmail.com  Female   22     200                 7   \n",
       "2      Karen          Karen@gmail.com  Female   45    1500                 2   \n",
       "3       Dave           Dave@gmail.com    Male   37    1800                 5   \n",
       "\n",
       "   reviews  Price  percentage_likelihood  \n",
       "0        9    300                  62760  \n",
       "1        4    300                   6090  \n",
       "2        1    300                  32050  \n",
       "3        2    300                  38110  "
      ]
     },
     "execution_count": 8,
     "metadata": {},
     "output_type": "execute_result"
    }
   ],
   "source": [
    "data"
   ]
  },
  {
   "cell_type": "code",
   "execution_count": 9,
   "id": "16fc1456",
   "metadata": {},
   "outputs": [],
   "source": [
    "import pandas as pd\n",
    "import numpy as np\n",
    "from sklearn.linear_model import LogisticRegression\n",
    "from sklearn.model_selection import train_test_split\n",
    "from sklearn.metrics import accuracy_score\n",
    "import joblib"
   ]
  },
  {
   "cell_type": "code",
   "execution_count": 10,
   "id": "2cfd5cea",
   "metadata": {},
   "outputs": [],
   "source": [
    "# Alternatively, you can fill the column with specific values based on the existing data\n",
    "data[\"income_level\"] = data.apply(lambda x: \"low\" if x[\"percentage_likelihood\"] < 50000 else \"high\", axis=1)"
   ]
  },
  {
   "cell_type": "code",
   "execution_count": 11,
   "id": "ef899a72",
   "metadata": {},
   "outputs": [
    {
     "data": {
      "text/html": [
       "<div>\n",
       "<style scoped>\n",
       "    .dataframe tbody tr th:only-of-type {\n",
       "        vertical-align: middle;\n",
       "    }\n",
       "\n",
       "    .dataframe tbody tr th {\n",
       "        vertical-align: top;\n",
       "    }\n",
       "\n",
       "    .dataframe thead th {\n",
       "        text-align: right;\n",
       "    }\n",
       "</style>\n",
       "<table border=\"1\" class=\"dataframe\">\n",
       "  <thead>\n",
       "    <tr style=\"text-align: right;\">\n",
       "      <th></th>\n",
       "      <th>First Name</th>\n",
       "      <th>Email</th>\n",
       "      <th>Gender</th>\n",
       "      <th>Age</th>\n",
       "      <th>Budget</th>\n",
       "      <th>purchase_history</th>\n",
       "      <th>reviews</th>\n",
       "      <th>Price</th>\n",
       "      <th>percentage_likelihood</th>\n",
       "      <th>income_level</th>\n",
       "    </tr>\n",
       "  </thead>\n",
       "  <tbody>\n",
       "    <tr>\n",
       "      <th>0</th>\n",
       "      <td>kevin</td>\n",
       "      <td>crazeshifts41@gmail.com</td>\n",
       "      <td>Male</td>\n",
       "      <td>29</td>\n",
       "      <td>3000</td>\n",
       "      <td>20</td>\n",
       "      <td>9</td>\n",
       "      <td>300</td>\n",
       "      <td>62760</td>\n",
       "      <td>high</td>\n",
       "    </tr>\n",
       "    <tr>\n",
       "      <th>1</th>\n",
       "      <td>Simon</td>\n",
       "      <td>Ngomasimon3@gmail.com</td>\n",
       "      <td>Female</td>\n",
       "      <td>22</td>\n",
       "      <td>200</td>\n",
       "      <td>7</td>\n",
       "      <td>4</td>\n",
       "      <td>300</td>\n",
       "      <td>6090</td>\n",
       "      <td>low</td>\n",
       "    </tr>\n",
       "    <tr>\n",
       "      <th>2</th>\n",
       "      <td>Karen</td>\n",
       "      <td>Karen@gmail.com</td>\n",
       "      <td>Female</td>\n",
       "      <td>45</td>\n",
       "      <td>1500</td>\n",
       "      <td>2</td>\n",
       "      <td>1</td>\n",
       "      <td>300</td>\n",
       "      <td>32050</td>\n",
       "      <td>low</td>\n",
       "    </tr>\n",
       "    <tr>\n",
       "      <th>3</th>\n",
       "      <td>Dave</td>\n",
       "      <td>Dave@gmail.com</td>\n",
       "      <td>Male</td>\n",
       "      <td>37</td>\n",
       "      <td>1800</td>\n",
       "      <td>5</td>\n",
       "      <td>2</td>\n",
       "      <td>300</td>\n",
       "      <td>38110</td>\n",
       "      <td>low</td>\n",
       "    </tr>\n",
       "  </tbody>\n",
       "</table>\n",
       "</div>"
      ],
      "text/plain": [
       "  First Name                    Email  Gender  Age  Budget  purchase_history  \\\n",
       "0      kevin  crazeshifts41@gmail.com    Male   29    3000                20   \n",
       "1      Simon    Ngomasimon3@gmail.com  Female   22     200                 7   \n",
       "2      Karen          Karen@gmail.com  Female   45    1500                 2   \n",
       "3       Dave           Dave@gmail.com    Male   37    1800                 5   \n",
       "\n",
       "   reviews  Price  percentage_likelihood income_level  \n",
       "0        9    300                  62760         high  \n",
       "1        4    300                   6090          low  \n",
       "2        1    300                  32050          low  \n",
       "3        2    300                  38110          low  "
      ]
     },
     "execution_count": 11,
     "metadata": {},
     "output_type": "execute_result"
    }
   ],
   "source": [
    "data"
   ]
  },
  {
   "cell_type": "code",
   "execution_count": 12,
   "id": "4754eb34",
   "metadata": {},
   "outputs": [],
   "source": [
    "data['Gender'] = data['Gender'].map({'Male':1,'Female':0})"
   ]
  },
  {
   "cell_type": "code",
   "execution_count": 13,
   "id": "90d2ed2a",
   "metadata": {},
   "outputs": [
    {
     "data": {
      "text/html": [
       "<div>\n",
       "<style scoped>\n",
       "    .dataframe tbody tr th:only-of-type {\n",
       "        vertical-align: middle;\n",
       "    }\n",
       "\n",
       "    .dataframe tbody tr th {\n",
       "        vertical-align: top;\n",
       "    }\n",
       "\n",
       "    .dataframe thead th {\n",
       "        text-align: right;\n",
       "    }\n",
       "</style>\n",
       "<table border=\"1\" class=\"dataframe\">\n",
       "  <thead>\n",
       "    <tr style=\"text-align: right;\">\n",
       "      <th></th>\n",
       "      <th>First Name</th>\n",
       "      <th>Email</th>\n",
       "      <th>Gender</th>\n",
       "      <th>Age</th>\n",
       "      <th>Budget</th>\n",
       "      <th>purchase_history</th>\n",
       "      <th>reviews</th>\n",
       "      <th>Price</th>\n",
       "      <th>percentage_likelihood</th>\n",
       "      <th>income_level</th>\n",
       "    </tr>\n",
       "  </thead>\n",
       "  <tbody>\n",
       "    <tr>\n",
       "      <th>0</th>\n",
       "      <td>kevin</td>\n",
       "      <td>crazeshifts41@gmail.com</td>\n",
       "      <td>1</td>\n",
       "      <td>29</td>\n",
       "      <td>3000</td>\n",
       "      <td>20</td>\n",
       "      <td>9</td>\n",
       "      <td>300</td>\n",
       "      <td>62760</td>\n",
       "      <td>high</td>\n",
       "    </tr>\n",
       "    <tr>\n",
       "      <th>1</th>\n",
       "      <td>Simon</td>\n",
       "      <td>Ngomasimon3@gmail.com</td>\n",
       "      <td>0</td>\n",
       "      <td>22</td>\n",
       "      <td>200</td>\n",
       "      <td>7</td>\n",
       "      <td>4</td>\n",
       "      <td>300</td>\n",
       "      <td>6090</td>\n",
       "      <td>low</td>\n",
       "    </tr>\n",
       "    <tr>\n",
       "      <th>2</th>\n",
       "      <td>Karen</td>\n",
       "      <td>Karen@gmail.com</td>\n",
       "      <td>0</td>\n",
       "      <td>45</td>\n",
       "      <td>1500</td>\n",
       "      <td>2</td>\n",
       "      <td>1</td>\n",
       "      <td>300</td>\n",
       "      <td>32050</td>\n",
       "      <td>low</td>\n",
       "    </tr>\n",
       "    <tr>\n",
       "      <th>3</th>\n",
       "      <td>Dave</td>\n",
       "      <td>Dave@gmail.com</td>\n",
       "      <td>1</td>\n",
       "      <td>37</td>\n",
       "      <td>1800</td>\n",
       "      <td>5</td>\n",
       "      <td>2</td>\n",
       "      <td>300</td>\n",
       "      <td>38110</td>\n",
       "      <td>low</td>\n",
       "    </tr>\n",
       "  </tbody>\n",
       "</table>\n",
       "</div>"
      ],
      "text/plain": [
       "  First Name                    Email  Gender  Age  Budget  purchase_history  \\\n",
       "0      kevin  crazeshifts41@gmail.com       1   29    3000                20   \n",
       "1      Simon    Ngomasimon3@gmail.com       0   22     200                 7   \n",
       "2      Karen          Karen@gmail.com       0   45    1500                 2   \n",
       "3       Dave           Dave@gmail.com       1   37    1800                 5   \n",
       "\n",
       "   reviews  Price  percentage_likelihood income_level  \n",
       "0        9    300                  62760         high  \n",
       "1        4    300                   6090          low  \n",
       "2        1    300                  32050          low  \n",
       "3        2    300                  38110          low  "
      ]
     },
     "execution_count": 13,
     "metadata": {},
     "output_type": "execute_result"
    }
   ],
   "source": [
    "data"
   ]
  },
  {
   "cell_type": "code",
   "execution_count": 14,
   "id": "ca69d461",
   "metadata": {},
   "outputs": [],
   "source": [
    "# Define the features\n",
    "X = data[['Age', 'Gender', 'purchase_history', 'reviews', 'Price']]"
   ]
  },
  {
   "cell_type": "code",
   "execution_count": 15,
   "id": "8663e2e9",
   "metadata": {},
   "outputs": [],
   "source": [
    "# Define the target variable\n",
    "y = data['income_level']"
   ]
  },
  {
   "cell_type": "code",
   "execution_count": 16,
   "id": "83349879",
   "metadata": {},
   "outputs": [],
   "source": [
    "# Split the data into train and test sets\n",
    "X_train, X_test, y_train, y_test = train_test_split(X, y, test_size=0.2, random_state=42)"
   ]
  },
  {
   "cell_type": "code",
   "execution_count": 17,
   "id": "d277c39b",
   "metadata": {},
   "outputs": [],
   "source": [
    "# Create a logistic regression model\n",
    "log_reg = LogisticRegression()"
   ]
  },
  {
   "cell_type": "code",
   "execution_count": 19,
   "id": "9deee506",
   "metadata": {},
   "outputs": [
    {
     "data": {
      "text/plain": [
       "LogisticRegression()"
      ]
     },
     "execution_count": 19,
     "metadata": {},
     "output_type": "execute_result"
    }
   ],
   "source": [
    "log_reg.fit(X_train, y_train)"
   ]
  },
  {
   "cell_type": "code",
   "execution_count": 20,
   "id": "5d0a18a0",
   "metadata": {},
   "outputs": [],
   "source": [
    "# Make predictions on the test data\n",
    "y_pred = log_reg.predict(X_test)"
   ]
  },
  {
   "cell_type": "code",
   "execution_count": 21,
   "id": "57b4c0c4",
   "metadata": {},
   "outputs": [],
   "source": [
    "# Calculate the accuracy of the model\n",
    "acc = accuracy_score(y_test, y_pred)"
   ]
  },
  {
   "cell_type": "code",
   "execution_count": 22,
   "id": "6ed454a9",
   "metadata": {},
   "outputs": [
    {
     "name": "stdout",
     "output_type": "stream",
     "text": [
      "Accuracy:  1.0\n"
     ]
    }
   ],
   "source": [
    "# Print the accuracy\n",
    "print('Accuracy: ', acc)"
   ]
  },
  {
   "cell_type": "code",
   "execution_count": 23,
   "id": "2244b1fe",
   "metadata": {},
   "outputs": [],
   "source": [
    "X_train, X_test, y_train, y_test = train_test_split(X, y, test_size=0.2)"
   ]
  },
  {
   "cell_type": "code",
   "execution_count": 24,
   "id": "20cfc464",
   "metadata": {},
   "outputs": [],
   "source": [
    "from sklearn.tree import DecisionTreeClassifier"
   ]
  },
  {
   "cell_type": "code",
   "execution_count": 25,
   "id": "dd3811c3",
   "metadata": {},
   "outputs": [],
   "source": [
    "# Create a decision tree classifier\n",
    "clf = DecisionTreeClassifier()"
   ]
  },
  {
   "cell_type": "code",
   "execution_count": 26,
   "id": "b0bc444f",
   "metadata": {},
   "outputs": [
    {
     "data": {
      "text/plain": [
       "DecisionTreeClassifier()"
      ]
     },
     "execution_count": 26,
     "metadata": {},
     "output_type": "execute_result"
    }
   ],
   "source": [
    "# Train the model on the training data\n",
    "clf.fit(X_train, y_train)"
   ]
  },
  {
   "cell_type": "code",
   "execution_count": 27,
   "id": "21fad445",
   "metadata": {},
   "outputs": [],
   "source": [
    "# Make predictions on the test data\n",
    "y_pred = clf.predict(X_test)"
   ]
  },
  {
   "cell_type": "code",
   "execution_count": 28,
   "id": "be6a4876",
   "metadata": {},
   "outputs": [
    {
     "name": "stdout",
     "output_type": "stream",
     "text": [
      "Accuracy: 1.0\n"
     ]
    }
   ],
   "source": [
    "# Evaluate the model's performance\n",
    "from sklearn.metrics import accuracy_score\n",
    "print(\"Accuracy:\", accuracy_score(y_test, y_pred))"
   ]
  },
  {
   "cell_type": "code",
   "execution_count": 29,
   "id": "30471274",
   "metadata": {},
   "outputs": [],
   "source": [
    "# Split the data into training and testing sets\n",
    "X_train, X_test, y_train, y_test = train_test_split(X, y, test_size=0.2, random_state=42)"
   ]
  },
  {
   "cell_type": "code",
   "execution_count": 31,
   "id": "6a780ffd",
   "metadata": {},
   "outputs": [],
   "source": [
    "from sklearn.ensemble import RandomForestClassifier"
   ]
  },
  {
   "cell_type": "code",
   "execution_count": 32,
   "id": "001799e7",
   "metadata": {},
   "outputs": [
    {
     "data": {
      "text/plain": [
       "RandomForestClassifier()"
      ]
     },
     "execution_count": 32,
     "metadata": {},
     "output_type": "execute_result"
    }
   ],
   "source": [
    "# Train the model\n",
    "model = RandomForestClassifier()\n",
    "model.fit(X_train, y_train)"
   ]
  },
  {
   "cell_type": "code",
   "execution_count": 34,
   "id": "49b7497f",
   "metadata": {},
   "outputs": [],
   "source": [
    "from sklearn.metrics import accuracy_score, precision_score, recall_score"
   ]
  },
  {
   "cell_type": "code",
   "execution_count": 35,
   "id": "88d1bc07",
   "metadata": {},
   "outputs": [
    {
     "name": "stdout",
     "output_type": "stream",
     "text": [
      "Accuracy:  1.0\n",
      "Precision:  0.0\n",
      "Recall:  0.0\n"
     ]
    },
    {
     "name": "stderr",
     "output_type": "stream",
     "text": [
      "C:\\Users\\ERIC\\anaconda3\\lib\\site-packages\\numpy\\lib\\arraysetops.py:579: FutureWarning: elementwise comparison failed; returning scalar instead, but in the future will perform elementwise comparison\n",
      "  mask &= (ar1 != a)\n",
      "C:\\Users\\ERIC\\anaconda3\\lib\\site-packages\\sklearn\\metrics\\_classification.py:1245: UndefinedMetricWarning: Precision is ill-defined and being set to 0.0 due to no predicted samples. Use `zero_division` parameter to control this behavior.\n",
      "  _warn_prf(average, modifier, msg_start, len(result))\n",
      "C:\\Users\\ERIC\\anaconda3\\lib\\site-packages\\numpy\\lib\\arraysetops.py:579: FutureWarning: elementwise comparison failed; returning scalar instead, but in the future will perform elementwise comparison\n",
      "  mask &= (ar1 != a)\n",
      "C:\\Users\\ERIC\\anaconda3\\lib\\site-packages\\sklearn\\metrics\\_classification.py:1245: UndefinedMetricWarning: Recall is ill-defined and being set to 0.0 due to no true samples. Use `zero_division` parameter to control this behavior.\n",
      "  _warn_prf(average, modifier, msg_start, len(result))\n"
     ]
    }
   ],
   "source": [
    "# evaluate the model\n",
    "print(\"Accuracy: \", accuracy_score(y_test, y_pred))\n",
    "print(\"Precision: \", precision_score(y_test, y_pred))\n",
    "print(\"Recall: \", recall_score(y_test, y_pred))"
   ]
  },
  {
   "cell_type": "code",
   "execution_count": 36,
   "id": "baee906d",
   "metadata": {},
   "outputs": [],
   "source": [
    "# Get the predicted probability\n",
    "y_proba = log_reg.predict_proba(X_test)"
   ]
  },
  {
   "cell_type": "code",
   "execution_count": 37,
   "id": "a0ac4f89",
   "metadata": {},
   "outputs": [],
   "source": [
    "# Create a new column with the predicted probability\n",
    "df_test = pd.DataFrame(X_test)\n",
    "df_test['pred_proba'] = y_proba[:, 1]"
   ]
  },
  {
   "cell_type": "code",
   "execution_count": 38,
   "id": "9b700c8e",
   "metadata": {},
   "outputs": [],
   "source": [
    "# Create a new column with the predicted likelihood\n",
    "df_test['pred_likelihood'] = df_test['pred_proba'] * 100"
   ]
  },
  {
   "cell_type": "code",
   "execution_count": 39,
   "id": "a2b9599a",
   "metadata": {},
   "outputs": [],
   "source": [
    "# Create a new column with the predicted outcome\n",
    "df_test['pred_outcome'] = np.where(df_test['pred_likelihood']>50, 'high', 'low')"
   ]
  },
  {
   "cell_type": "code",
   "execution_count": 40,
   "id": "414d1e84",
   "metadata": {},
   "outputs": [
    {
     "name": "stdout",
     "output_type": "stream",
     "text": [
      "   Age  Gender  purchase_history  reviews  Price  pred_proba  pred_likelihood  \\\n",
      "1   22       0                 7        4    300    0.512683        51.268269   \n",
      "\n",
      "  pred_outcome  \n",
      "1         high  \n"
     ]
    }
   ],
   "source": [
    "# print the output \n",
    "print(df_test)"
   ]
  },
  {
   "cell_type": "code",
   "execution_count": 41,
   "id": "d91fe9ab",
   "metadata": {},
   "outputs": [
    {
     "name": "stdout",
     "output_type": "stream",
     "text": [
      "1    high\n",
      "Name: pred_outcome, dtype: object\n"
     ]
    }
   ],
   "source": [
    "print(df_test['pred_outcome'])"
   ]
  },
  {
   "cell_type": "code",
   "execution_count": 42,
   "id": "1d50e630",
   "metadata": {},
   "outputs": [
    {
     "data": {
      "text/html": [
       "<div>\n",
       "<style scoped>\n",
       "    .dataframe tbody tr th:only-of-type {\n",
       "        vertical-align: middle;\n",
       "    }\n",
       "\n",
       "    .dataframe tbody tr th {\n",
       "        vertical-align: top;\n",
       "    }\n",
       "\n",
       "    .dataframe thead th {\n",
       "        text-align: right;\n",
       "    }\n",
       "</style>\n",
       "<table border=\"1\" class=\"dataframe\">\n",
       "  <thead>\n",
       "    <tr style=\"text-align: right;\">\n",
       "      <th></th>\n",
       "      <th>First Name</th>\n",
       "      <th>Email</th>\n",
       "      <th>Gender</th>\n",
       "      <th>Age</th>\n",
       "      <th>Budget</th>\n",
       "      <th>purchase_history</th>\n",
       "      <th>reviews</th>\n",
       "      <th>Price</th>\n",
       "      <th>percentage_likelihood</th>\n",
       "      <th>income_level</th>\n",
       "    </tr>\n",
       "  </thead>\n",
       "  <tbody>\n",
       "    <tr>\n",
       "      <th>0</th>\n",
       "      <td>kevin</td>\n",
       "      <td>crazeshifts41@gmail.com</td>\n",
       "      <td>1</td>\n",
       "      <td>29</td>\n",
       "      <td>3000</td>\n",
       "      <td>20</td>\n",
       "      <td>9</td>\n",
       "      <td>300</td>\n",
       "      <td>62760</td>\n",
       "      <td>high</td>\n",
       "    </tr>\n",
       "    <tr>\n",
       "      <th>1</th>\n",
       "      <td>Simon</td>\n",
       "      <td>Ngomasimon3@gmail.com</td>\n",
       "      <td>0</td>\n",
       "      <td>22</td>\n",
       "      <td>200</td>\n",
       "      <td>7</td>\n",
       "      <td>4</td>\n",
       "      <td>300</td>\n",
       "      <td>6090</td>\n",
       "      <td>low</td>\n",
       "    </tr>\n",
       "    <tr>\n",
       "      <th>2</th>\n",
       "      <td>Karen</td>\n",
       "      <td>Karen@gmail.com</td>\n",
       "      <td>0</td>\n",
       "      <td>45</td>\n",
       "      <td>1500</td>\n",
       "      <td>2</td>\n",
       "      <td>1</td>\n",
       "      <td>300</td>\n",
       "      <td>32050</td>\n",
       "      <td>low</td>\n",
       "    </tr>\n",
       "    <tr>\n",
       "      <th>3</th>\n",
       "      <td>Dave</td>\n",
       "      <td>Dave@gmail.com</td>\n",
       "      <td>1</td>\n",
       "      <td>37</td>\n",
       "      <td>1800</td>\n",
       "      <td>5</td>\n",
       "      <td>2</td>\n",
       "      <td>300</td>\n",
       "      <td>38110</td>\n",
       "      <td>low</td>\n",
       "    </tr>\n",
       "  </tbody>\n",
       "</table>\n",
       "</div>"
      ],
      "text/plain": [
       "  First Name                    Email  Gender  Age  Budget  purchase_history  \\\n",
       "0      kevin  crazeshifts41@gmail.com       1   29    3000                20   \n",
       "1      Simon    Ngomasimon3@gmail.com       0   22     200                 7   \n",
       "2      Karen          Karen@gmail.com       0   45    1500                 2   \n",
       "3       Dave           Dave@gmail.com       1   37    1800                 5   \n",
       "\n",
       "   reviews  Price  percentage_likelihood income_level  \n",
       "0        9    300                  62760         high  \n",
       "1        4    300                   6090          low  \n",
       "2        1    300                  32050          low  \n",
       "3        2    300                  38110          low  "
      ]
     },
     "execution_count": 42,
     "metadata": {},
     "output_type": "execute_result"
    }
   ],
   "source": [
    "data"
   ]
  },
  {
   "cell_type": "code",
   "execution_count": 43,
   "id": "47c4a505",
   "metadata": {},
   "outputs": [
    {
     "data": {
      "text/plain": [
       "['log_reg_model.pkl']"
      ]
     },
     "execution_count": 43,
     "metadata": {},
     "output_type": "execute_result"
    }
   ],
   "source": [
    "#save the model\n",
    "joblib.dump(log_reg, 'log_reg_model.pkl')"
   ]
  },
  {
   "cell_type": "code",
   "execution_count": null,
   "id": "00a42e8c",
   "metadata": {},
   "outputs": [],
   "source": []
  }
 ],
 "metadata": {
  "kernelspec": {
   "display_name": "Python 3",
   "language": "python",
   "name": "python3"
  },
  "language_info": {
   "codemirror_mode": {
    "name": "ipython",
    "version": 3
   },
   "file_extension": ".py",
   "mimetype": "text/x-python",
   "name": "python",
   "nbconvert_exporter": "python",
   "pygments_lexer": "ipython3",
   "version": "3.8.8"
  }
 },
 "nbformat": 4,
 "nbformat_minor": 5
}
